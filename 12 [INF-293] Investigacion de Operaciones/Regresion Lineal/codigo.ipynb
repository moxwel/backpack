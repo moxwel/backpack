{
 "cells": [
  {
   "cell_type": "code",
   "execution_count": 23,
   "metadata": {
    "notebookRunGroups": {
     "groupValue": ""
    },
    "tags": [],
    "vscode": {
     "languageId": "r"
    }
   },
   "outputs": [
    {
     "name": "stdout",
     "output_type": "stream",
     "text": [
      "C = agua alto masa \n",
      "F = 15 \n"
     ]
    },
    {
     "data": {
      "text/html": [
       "<table class=\"dataframe\">\n",
       "<caption>A data.frame: 6 × 3</caption>\n",
       "<thead>\n",
       "\t<tr><th></th><th scope=col>agua</th><th scope=col>alto</th><th scope=col>masa</th></tr>\n",
       "\t<tr><th></th><th scope=col>&lt;int&gt;</th><th scope=col>&lt;dbl&gt;</th><th scope=col>&lt;dbl&gt;</th></tr>\n",
       "</thead>\n",
       "<tbody>\n",
       "\t<tr><th scope=row>1</th><td>110</td><td>11.93</td><td>76.07</td></tr>\n",
       "\t<tr><th scope=row>2</th><td>110</td><td> 8.59</td><td>72.90</td></tr>\n",
       "\t<tr><th scope=row>3</th><td>102</td><td> 5.93</td><td>68.61</td></tr>\n",
       "\t<tr><th scope=row>4</th><td>114</td><td>13.26</td><td>73.69</td></tr>\n",
       "\t<tr><th scope=row>5</th><td>112</td><td> 9.93</td><td>73.64</td></tr>\n",
       "\t<tr><th scope=row>6</th><td>106</td><td> 5.93</td><td>71.28</td></tr>\n",
       "</tbody>\n",
       "</table>\n"
      ],
      "text/latex": [
       "A data.frame: 6 × 3\n",
       "\\begin{tabular}{r|lll}\n",
       "  & agua & alto & masa\\\\\n",
       "  & <int> & <dbl> & <dbl>\\\\\n",
       "\\hline\n",
       "\t1 & 110 & 11.93 & 76.07\\\\\n",
       "\t2 & 110 &  8.59 & 72.90\\\\\n",
       "\t3 & 102 &  5.93 & 68.61\\\\\n",
       "\t4 & 114 & 13.26 & 73.69\\\\\n",
       "\t5 & 112 &  9.93 & 73.64\\\\\n",
       "\t6 & 106 &  5.93 & 71.28\\\\\n",
       "\\end{tabular}\n"
      ],
      "text/markdown": [
       "\n",
       "A data.frame: 6 × 3\n",
       "\n",
       "| <!--/--> | agua &lt;int&gt; | alto &lt;dbl&gt; | masa &lt;dbl&gt; |\n",
       "|---|---|---|---|\n",
       "| 1 | 110 | 11.93 | 76.07 |\n",
       "| 2 | 110 |  8.59 | 72.90 |\n",
       "| 3 | 102 |  5.93 | 68.61 |\n",
       "| 4 | 114 | 13.26 | 73.69 |\n",
       "| 5 | 112 |  9.93 | 73.64 |\n",
       "| 6 | 106 |  5.93 | 71.28 |\n",
       "\n"
      ],
      "text/plain": [
       "  agua alto  masa \n",
       "1 110  11.93 76.07\n",
       "2 110   8.59 72.90\n",
       "3 102   5.93 68.61\n",
       "4 114  13.26 73.69\n",
       "5 112   9.93 73.64\n",
       "6 106   5.93 71.28"
      ]
     },
     "metadata": {},
     "output_type": "display_data"
    },
    {
     "data": {
      "text/plain": [
       "      agua            alto             masa      \n",
       " Min.   :102.0   Min.   : 5.260   Min.   :68.13  \n",
       " 1st Qu.:106.0   1st Qu.: 5.930   1st Qu.:70.57  \n",
       " Median :107.0   Median : 7.930   Median :71.80  \n",
       " Mean   :107.9   Mean   : 8.372   Mean   :71.82  \n",
       " 3rd Qu.:110.0   3rd Qu.: 9.930   3rd Qu.:73.62  \n",
       " Max.   :114.0   Max.   :13.260   Max.   :76.07  "
      ]
     },
     "metadata": {},
     "output_type": "display_data"
    }
   ],
   "source": [
    "file_path  <- \"./datos_verificador_5.csv\"\n",
    "has_header <- TRUE\n",
    "separator  <- \",\"\n",
    "\n",
    "library(lmtest)\n",
    "library(car)\n",
    "\n",
    "datos_df <- read.csv(file_path, header = has_header, sep = separator)\n",
    "\n",
    "cat(\"C =\", colnames(datos_df), \"\\n\")\n",
    "cat(\"F =\", nrow(datos_df), \"\\n\")\n",
    "head(datos_df)\n",
    "summary(datos_df)"
   ]
  },
  {
   "cell_type": "code",
   "execution_count": 24,
   "metadata": {
    "vscode": {
     "languageId": "r"
    }
   },
   "outputs": [
    {
     "data": {
      "text/plain": [
       "\n",
       "Call:\n",
       "lm(formula = as.formula(paste(y_label, \"~\", x_label)), data = datos_df)\n",
       "\n",
       "Coefficients:\n",
       "(Intercept)         alto  \n",
       "     98.813        1.081  \n"
      ]
     },
     "metadata": {},
     "output_type": "display_data"
    }
   ],
   "source": [
    "x_label <- \"alto\"\n",
    "y_label <- \"agua\"\n",
    "alpha   <- 0.05\n",
    "\n",
    "n <- nrow(datos_df)\n",
    "x <- datos_df[[x_label]]\n",
    "y <- datos_df[[y_label]]\n",
    "\n",
    "lmodel <- lm(as.formula(paste(y_label, \"~\", x_label)), data = datos_df)\n",
    "lmodel"
   ]
  },
  {
   "cell_type": "code",
   "execution_count": 25,
   "metadata": {
    "vscode": {
     "languageId": "r"
    }
   },
   "outputs": [
    {
     "name": "stdout",
     "output_type": "stream",
     "text": [
      "b0 = 98.81288 \n",
      "b1 = 1.081436 \n",
      "r  = 0.8652729 \n",
      "r2 = 0.7486972 \n",
      "f  = 53.62675 \n"
     ]
    }
   ],
   "source": [
    "x_mean <- mean(x)\n",
    "y_mean <- mean(y)\n",
    "sxx    <- sum((x - x_mean)^2)\n",
    "syy    <- sum((y - y_mean)^2)\n",
    "sxy    <- sum((x - x_mean) * (y - y_mean))\n",
    "b1     <- sxy / sxx\n",
    "b0     <- y_mean - b1 * x_mean\n",
    "y_hat  <- b0 + b1 * x\n",
    "scr    <- sum((y_hat - y_mean)^2)\n",
    "sce    <- sum((y - y_hat)^2)\n",
    "sct    <- sum((y - y_mean)^2)\n",
    "r      <- sxy / sqrt(sxx * syy)\n",
    "r2     <- scr / sct\n",
    "f      <- (scr / 1) / (sce / (20 - 2))\n",
    "\n",
    "cat(\"b0 =\", b0, \"\\n\")\n",
    "cat(\"b1 =\", b1, \"\\n\")\n",
    "cat(\"r  =\", r, \"\\n\")\n",
    "cat(\"r2 =\", r2, \"\\n\")\n",
    "cat(\"f  =\", f, \"\\n\")"
   ]
  },
  {
   "cell_type": "code",
   "execution_count": 26,
   "metadata": {
    "vscode": {
     "languageId": "r"
    }
   },
   "outputs": [
    {
     "data": {
      "text/plain": [
       "\n",
       "Call:\n",
       "lm(formula = as.formula(paste(y_label, \"~\", x_label)), data = datos_df)\n",
       "\n",
       "Residuals:\n",
       "    Min      1Q  Median      3Q     Max \n",
       "-3.2258 -0.8521  0.0605  1.0101  2.4988 \n",
       "\n",
       "Coefficients:\n",
       "            Estimate Std. Error t value Pr(>|t|)    \n",
       "(Intercept)  98.8129     1.5290  64.627  < 2e-16 ***\n",
       "alto          1.0814     0.1738   6.223  3.1e-05 ***\n",
       "---\n",
       "Signif. codes:  0 '***' 0.001 '**' 0.01 '*' 0.05 '.' 0.1 ' ' 1\n",
       "\n",
       "Residual standard error: 1.822 on 13 degrees of freedom\n",
       "Multiple R-squared:  0.7487,\tAdjusted R-squared:  0.7294 \n",
       "F-statistic: 38.73 on 1 and 13 DF,  p-value: 3.101e-05\n"
      ]
     },
     "metadata": {},
     "output_type": "display_data"
    }
   ],
   "source": [
    "lmodel_s <- summary(lmodel)\n",
    "lmodel_r <- lmodel$residuals\n",
    "\n",
    "b0 <- lmodel$coefficients[[1]]\n",
    "b1 <- lmodel$coefficients[[2]]\n",
    "r2 <- lmodel_s$r.squared\n",
    "r  <- sqrt(r2)\n",
    "f  <- lmodel_s$fstatistic[\"value\"]\n",
    "\n",
    "lmodel_s"
   ]
  },
  {
   "cell_type": "code",
   "execution_count": 27,
   "metadata": {
    "vscode": {
     "languageId": "r"
    }
   },
   "outputs": [
    {
     "data": {
      "text/plain": [
       "            Df Sum Sq Mean Sq F value  Pr(>F)    \n",
       "alto         1 128.58  128.58   38.73 3.1e-05 ***\n",
       "Residuals   13  43.16    3.32                    \n",
       "---\n",
       "Signif. codes:  0 '***' 0.001 '**' 0.01 '*' 0.05 '.' 0.1 ' ' 1"
      ]
     },
     "metadata": {},
     "output_type": "display_data"
    }
   ],
   "source": [
    "lmodel_av   <- aov(lmodel)\n",
    "lmodel_av_s <- summary(lmodel_av)\n",
    "\n",
    "av_s <- lmodel_av_s[[1]][[\"F value\"]][1]\n",
    "av_p <- lmodel_av_s[[1]][[\"Pr(>F)\"]][1]\n",
    "av_f <- qf(1 - alpha, 1, n - 2)\n",
    "\n",
    "lmodel_av_s"
   ]
  },
  {
   "cell_type": "code",
   "execution_count": 28,
   "metadata": {
    "vscode": {
     "languageId": "r"
    }
   },
   "outputs": [
    {
     "data": {
      "text/plain": [
       "\n",
       "\tDurbin-Watson test\n",
       "\n",
       "data:  lmodel\n",
       "DW = 2.8544, p-value = 0.9642\n",
       "alternative hypothesis: true autocorrelation is greater than 0\n"
      ]
     },
     "metadata": {},
     "output_type": "display_data"
    }
   ],
   "source": [
    "lmodel_dw <- dwtest(lmodel)\n",
    "\n",
    "dw_s <- lmodel_dw$statistic\n",
    "dw_p <- lmodel_dw$p.value\n",
    "dw_s_m <- sum(diff(lmodel_r)^2) / sum(lmodel_r^2)\n",
    "\n",
    "lmodel_dw"
   ]
  },
  {
   "cell_type": "code",
   "execution_count": 29,
   "metadata": {
    "vscode": {
     "languageId": "r"
    }
   },
   "outputs": [
    {
     "name": "stderr",
     "output_type": "stream",
     "text": [
      "Warning message in ks.test.default(lmodel_r, \"pnorm\", mean = mean(lmodel_r), sd = sd(lmodel_r)):\n",
      "\"ties should not be present for the Kolmogorov-Smirnov test\"\n"
     ]
    },
    {
     "data": {
      "text/plain": [
       "\n",
       "\tAsymptotic one-sample Kolmogorov-Smirnov test\n",
       "\n",
       "data:  lmodel_r\n",
       "D = 0.13704, p-value = 0.9408\n",
       "alternative hypothesis: two-sided\n"
      ]
     },
     "metadata": {},
     "output_type": "display_data"
    }
   ],
   "source": [
    "lmodel_ks <- ks.test(lmodel_r, \"pnorm\", mean = mean(lmodel_r), sd = sd(lmodel_r))\n",
    "\n",
    "dn <- function(n) {\n",
    "    if (n == 10) {result <- 0.41}\n",
    "    else if (n == 15) {result <- 0.34}\n",
    "    else if (n == 20) {result <- 0.29}\n",
    "    else if (n >= 50) {result <- 1.36 / sqrt(n)}\n",
    "    return(result)\n",
    "}\n",
    "\n",
    "ks_s <- lmodel_ks$statistic\n",
    "ks_p <- lmodel_ks$p.value\n",
    "ks_d <- dn(n)\n",
    "\n",
    "lmodel_ks"
   ]
  },
  {
   "cell_type": "code",
   "execution_count": 30,
   "metadata": {
    "vscode": {
     "languageId": "r"
    }
   },
   "outputs": [
    {
     "name": "stdout",
     "output_type": "stream",
     "text": [
      "b0 = 98.81288 \n",
      "b1 = 1.081436 \n",
      "r  = 0.8652729 \n",
      "r2 = 0.7486972 \n",
      "AV = 38.73043 \n",
      " F = 4.667193 \n",
      " p = 3.100752e-05 \n",
      "DW = 2.854402 \n",
      " m = 2.854402 \n",
      " p = 0.9642052 \n",
      "KS = 0.1370429 \n",
      " D = 0.34 \n",
      " p = 0.940806 \n"
     ]
    },
    {
     "data": {
      "image/png": "[encoded data removed]",
      "text/plain": [
       "plot without title"
      ]
     },
     "metadata": {
      "image/png": {
       "height": 420,
       "width": 420
      }
     },
     "output_type": "display_data"
    }
   ],
   "source": [
    "cat(\"b0 =\", b0, \"\\nb1 =\", b1, \"\\n\")\n",
    "cat(\"r  =\", r, \"\\nr2 =\", r2, \"\\n\")\n",
    "cat(\"AV =\", av_s, \"\\n F =\", av_f, \"\\n p =\", av_p, \"\\n\")\n",
    "cat(\"DW =\", dw_s, \"\\n m =\", dw_s_m, \"\\n p =\", dw_p, \"\\n\")\n",
    "cat(\"KS =\", ks_s, \"\\n D =\", ks_d, \"\\n p =\", ks_p, \"\\n\")\n",
    "\n",
    "plot(x, y, pch = 16, col = \"blue\", xlab = x_label, ylab = y_label)\n",
    "points(x, y_hat, pch = 16, col = \"red\")\n",
    "segments(x, y_hat, x, y, col = \"black\", lty = 2)\n",
    "abline(lmodel, col = \"red\")"
   ]
  },
  {
   "cell_type": "code",
   "execution_count": 31,
   "metadata": {
    "vscode": {
     "languageId": "r"
    }
   },
   "outputs": [
    {
     "name": "stdout",
     "output_type": "stream",
     "text": [
      "b0_c = 98.81288 +- 3.303152 => [ 95.50973 , 102.116 ]\n",
      "b1_c = 1.081436 +- 0.3754072 => [ 0.706029 , 1.456843 ]\n"
     ]
    }
   ],
   "source": [
    "errs   <- y - y_hat\n",
    "var    <- sum(errs^2) / (n - 2)\n",
    "b0_var <- (var * sum(x^2)) / (n * sxx)\n",
    "b1_var <- var / sxx\n",
    "b0_inf <- b0 - qt(1 - (alpha / 2), n - 2) * sqrt(b0_var)\n",
    "b0_sup <- b0 + qt(1 - (alpha / 2), n - 2) * sqrt(b0_var)\n",
    "b1_inf <- b1 - qt(1 - (alpha / 2), n - 2) * sqrt(b1_var)\n",
    "b1_sup <- b1 + qt(1 - (alpha / 2), n - 2) * sqrt(b1_var)\n",
    "\n",
    "cat(\"b0_c =\", b0, \"+-\", (b0 - b0_inf), \"=> [\" , b0_inf, \",\", b0_sup, \"]\\n\")\n",
    "cat(\"b1_c =\", b1, \"+-\", (b1 - b1_inf), \"=> [\" , b1_inf, \",\", b1_sup, \"]\\n\")"
   ]
  },
  {
   "cell_type": "code",
   "execution_count": 32,
   "metadata": {
    "tags": [],
    "vscode": {
     "languageId": "r"
    }
   },
   "outputs": [
    {
     "name": "stdout",
     "output_type": "stream",
     "text": [
      "y_p = 113.4123 \n"
     ]
    }
   ],
   "source": [
    "y_p <- predict(lmodel, data.frame(alto = 13.5))\n",
    "\n",
    "cat(\"y_p =\", y_p, \"\\n\")"
   ]
  },
  {
   "cell_type": "code",
   "execution_count": 33,
   "metadata": {
    "vscode": {
     "languageId": "r"
    }
   },
   "outputs": [
    {
     "data": {
      "text/html": [
       "<table class=\"dataframe\">\n",
       "<caption>A data.frame: 0 × 3</caption>\n",
       "<thead>\n",
       "\t<tr><th scope=col>agua</th><th scope=col>alto</th><th scope=col>masa</th></tr>\n",
       "\t<tr><th scope=col>&lt;int&gt;</th><th scope=col>&lt;dbl&gt;</th><th scope=col>&lt;dbl&gt;</th></tr>\n",
       "</thead>\n",
       "<tbody>\n",
       "</tbody>\n",
       "</table>\n"
      ],
      "text/latex": [
       "A data.frame: 0 × 3\n",
       "\\begin{tabular}{lll}\n",
       " agua & alto & masa\\\\\n",
       " <int> & <dbl> & <dbl>\\\\\n",
       "\\hline\n",
       "\\end{tabular}\n"
      ],
      "text/markdown": [
       "\n",
       "A data.frame: 0 × 3\n",
       "\n",
       "| agua &lt;int&gt; | alto &lt;dbl&gt; | masa &lt;dbl&gt; |\n",
       "|---|---|---|\n",
       "\n"
      ],
      "text/plain": [
       "     agua alto masa"
      ]
     },
     "metadata": {},
     "output_type": "display_data"
    },
    {
     "data": {
      "text/html": [
       "<table class=\"dataframe\">\n",
       "<caption>A matrix: 1 × 3 of type dbl</caption>\n",
       "<thead>\n",
       "\t<tr><th></th><th scope=col>fit</th><th scope=col>lwr</th><th scope=col>upr</th></tr>\n",
       "</thead>\n",
       "<tbody>\n",
       "\t<tr><th scope=row>1</th><td>105.3015</td><td>101.89</td><td>108.713</td></tr>\n",
       "</tbody>\n",
       "</table>\n"
      ],
      "text/latex": [
       "A matrix: 1 × 3 of type dbl\n",
       "\\begin{tabular}{r|lll}\n",
       "  & fit & lwr & upr\\\\\n",
       "\\hline\n",
       "\t1 & 105.3015 & 101.89 & 108.713\\\\\n",
       "\\end{tabular}\n"
      ],
      "text/markdown": [
       "\n",
       "A matrix: 1 × 3 of type dbl\n",
       "\n",
       "| <!--/--> | fit | lwr | upr |\n",
       "|---|---|---|---|\n",
       "| 1 | 105.3015 | 101.89 | 108.713 |\n",
       "\n"
      ],
      "text/plain": [
       "  fit      lwr    upr    \n",
       "1 105.3015 101.89 108.713"
      ]
     },
     "metadata": {},
     "output_type": "display_data"
    },
    {
     "name": "stdout",
     "output_type": "stream",
     "text": [
      "y_c = 105.3015 +- 3.411512 => [ 101.89 , 108.713 ] ( prediction )\n"
     ]
    }
   ],
   "source": [
    "found <- subset(datos_df, alto == 6)\n",
    "\n",
    "conf_mode <- if(nrow(found) == 0) \"prediction\" else \"confidence\"\n",
    "conf_interv <- predict(lmodel, data.frame(alto=6), interval = conf_mode, level = 0.90)\n",
    "\n",
    "y_p   <- conf_interv[1]\n",
    "y_inf <- conf_interv[2]\n",
    "y_sup <- conf_interv[3]\n",
    "\n",
    "found\n",
    "conf_interv\n",
    "cat(\"y_c =\", y_p, \"+-\", (y_p - y_inf), \"=> [\", y_inf, \",\", y_sup, \"] (\", conf_mode, \")\\n\")"
   ]
  }
 ],
 "metadata": {
  "kernelspec": {
   "display_name": "R",
   "language": "R",
   "name": "ir"
  },
  "language_info": {
   "codemirror_mode": "r",
   "file_extension": ".r",
   "mimetype": "text/x-r-source",
   "name": "R",
   "pygments_lexer": "r",
   "version": "4.3.1"
  },
  "orig_nbformat": 4
 },
 "nbformat": 4,
 "nbformat_minor": 2
}
