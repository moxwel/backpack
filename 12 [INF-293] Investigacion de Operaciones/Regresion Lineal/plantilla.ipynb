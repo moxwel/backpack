{
 "cells": [
  {
   "cell_type": "code",
   "execution_count": null,
   "metadata": {
    "notebookRunGroups": {
     "groupValue": ""
    },
    "tags": [],
    "vscode": {
     "languageId": "r"
    }
   },
   "outputs": [],
   "source": [
    "file_path  <- \"./DatosControlRL2022-1.csv\"\n",
    "has_header <- TRUE\n",
    "separator  <- \",\"\n",
    "\n",
    "library(lmtest)\n",
    "library(car)\n",
    "\n",
    "datos_df <- read.csv(file_path, header = has_header, sep = separator)\n",
    "\n",
    "cat(\"C =\", colnames(datos_df), \"\\n\")\n",
    "cat(\"F =\", nrow(datos_df), \"\\n\")\n",
    "head(datos_df)\n",
    "summary(datos_df)"
   ]
  },
  {
   "cell_type": "code",
   "execution_count": null,
   "metadata": {
    "vscode": {
     "languageId": "r"
    }
   },
   "outputs": [],
   "source": [
    "x_label <- \"youtube\"\n",
    "y_label <- \"nota\"\n",
    "alpha   <- 0.05\n",
    "\n",
    "n <- nrow(datos_df)\n",
    "x <- datos_df[[x_label]]\n",
    "y <- datos_df[[y_label]]\n",
    "\n",
    "lmodel <- lm(as.formula(paste(y_label, \"~\", x_label)), data = datos_df)\n",
    "lmodel"
   ]
  },
  {
   "cell_type": "code",
   "execution_count": null,
   "metadata": {
    "vscode": {
     "languageId": "r"
    }
   },
   "outputs": [],
   "source": [
    "x_mean <- mean(x)\n",
    "y_mean <- mean(y)\n",
    "sxx    <- sum((x - x_mean)^2)\n",
    "syy    <- sum((y - y_mean)^2)\n",
    "sxy    <- sum((x - x_mean) * (y - y_mean))\n",
    "b1     <- sxy / sxx\n",
    "b0     <- y_mean - b1 * x_mean\n",
    "y_hat  <- b0 + b1 * x\n",
    "scr    <- sum((y_hat - y_mean)^2)\n",
    "sce    <- sum((y - y_hat)^2)\n",
    "sct    <- sum((y - y_mean)^2)\n",
    "r      <- sxy / sqrt(sxx * syy)\n",
    "r2     <- scr / sct\n",
    "f      <- (scr / 1) / (sce / (20 - 2))\n",
    "\n",
    "cat(y_label, \"v/s\", x_label, \"\\n\")\n",
    "cat(\"b0 =\", b0, \"\\n\")\n",
    "cat(\"b1 =\", b1, \"\\n\")\n",
    "cat(\"r  =\", r, \"\\n\")\n",
    "cat(\"r2 =\", r2, \"\\n\")\n",
    "cat(\"f  =\", f, \"\\n\")"
   ]
  },
  {
   "cell_type": "code",
   "execution_count": null,
   "metadata": {
    "vscode": {
     "languageId": "r"
    }
   },
   "outputs": [],
   "source": [
    "lmodel_s <- summary(lmodel)\n",
    "lmodel_r <- lmodel$residuals\n",
    "\n",
    "b0 <- lmodel$coefficients[[1]]\n",
    "b1 <- lmodel$coefficients[[2]]\n",
    "r2 <- lmodel_s$r.squared\n",
    "r  <- sqrt(r2)\n",
    "f  <- lmodel_s$fstatistic[\"value\"]\n",
    "\n",
    "lmodel_s"
   ]
  },
  {
   "cell_type": "code",
   "execution_count": null,
   "metadata": {
    "vscode": {
     "languageId": "r"
    }
   },
   "outputs": [],
   "source": [
    "lmodel_av   <- aov(lmodel)\n",
    "lmodel_av_s <- summary(lmodel_av)\n",
    "\n",
    "av_s <- lmodel_av_s[[1]][[\"F value\"]][1]\n",
    "av_p <- lmodel_av_s[[1]][[\"Pr(>F)\"]][1]\n",
    "av_f <- qf(1 - alpha, 1, n - 2)\n",
    "av_t <- av_p >= 0.05\n",
    "\n",
    "lmodel_av_s"
   ]
  },
  {
   "cell_type": "code",
   "execution_count": null,
   "metadata": {
    "vscode": {
     "languageId": "r"
    }
   },
   "outputs": [],
   "source": [
    "lmodel_dw <- dwtest(lmodel)\n",
    "\n",
    "dw_s <- lmodel_dw$statistic\n",
    "dw_p <- lmodel_dw$p.value\n",
    "dw_t <- dw_p >= 0.05\n",
    "\n",
    "lmodel_dw"
   ]
  },
  {
   "cell_type": "code",
   "execution_count": null,
   "metadata": {
    "vscode": {
     "languageId": "r"
    }
   },
   "outputs": [],
   "source": [
    "lmodel_ks <- ks.test(lmodel_r, \"pnorm\", mean = mean(lmodel_r), sd = sd(lmodel_r))\n",
    "\n",
    "dn <- function(n) {\n",
    "    if (n == 10) {result <- 0.41}\n",
    "    else if (n == 15) {result <- 0.34}\n",
    "    else if (n == 20) {result <- 0.29}\n",
    "    else if (n >= 50) {result <- 1.36 / sqrt(n)}\n",
    "    return(result)\n",
    "}\n",
    "\n",
    "ks_s <- lmodel_ks$statistic\n",
    "ks_p <- lmodel_ks$p.value\n",
    "ks_d <- dn(n)\n",
    "ks_t <- ks_p >= 0.05\n",
    "\n",
    "lmodel_ks"
   ]
  },
  {
   "cell_type": "code",
   "execution_count": null,
   "metadata": {
    "vscode": {
     "languageId": "r"
    }
   },
   "outputs": [],
   "source": [
    "cat(y_label, \"v/s\", x_label, \"\\n\")\n",
    "cat(\"b0 =\", b0, \"\\nb1 =\", b1, \"\\n\")\n",
    "cat(\"r  =\", r, \"\\nr2 =\", r2, \"\\n\")\n",
    "cat(\"AV =\", av_s, \"\\n F =\", av_f, \"\\n p =\", av_p, av_t, \"\\n\")\n",
    "cat(\"DW =\", dw_s, \"\\n p =\", dw_p, dw_t, \"\\n\")\n",
    "cat(\"KS =\", ks_s, \"\\n D =\", ks_d, \"\\n p =\", ks_p, ks_t, \"\\n\")\n",
    "\n",
    "plot(x, y, pch = 16, col = \"blue\", xlab = x_label, ylab = y_label)\n",
    "points(x, y_hat, pch = 16, col = \"red\")\n",
    "segments(x, y_hat, x, y, col = \"black\", lty = 2)\n",
    "abline(lmodel, col = \"red\")"
   ]
  },
  {
   "cell_type": "code",
   "execution_count": null,
   "metadata": {
    "vscode": {
     "languageId": "r"
    }
   },
   "outputs": [],
   "source": [
    "errs   <- y - y_hat\n",
    "var    <- sum(errs^2) / (n - 2)\n",
    "b0_var <- (var * sum(x^2)) / (n * sxx)\n",
    "b1_var <- var / sxx\n",
    "b0_inf <- b0 - qt(1 - (alpha / 2), n - 2) * sqrt(b0_var)\n",
    "b0_sup <- b0 + qt(1 - (alpha / 2), n - 2) * sqrt(b0_var)\n",
    "b1_inf <- b1 - qt(1 - (alpha / 2), n - 2) * sqrt(b1_var)\n",
    "b1_sup <- b1 + qt(1 - (alpha / 2), n - 2) * sqrt(b1_var)\n",
    "\n",
    "cat(\"b0_c =\", b0, \"+-\", (b0 - b0_inf), \"=> [\" , b0_inf, \",\", b0_sup, \"]\\n\")\n",
    "cat(\"b1_c =\", b1, \"+-\", (b1 - b1_inf), \"=> [\" , b1_inf, \",\", b1_sup, \"]\\n\")"
   ]
  },
  {
   "cell_type": "code",
   "execution_count": null,
   "metadata": {
    "tags": [],
    "vscode": {
     "languageId": "r"
    }
   },
   "outputs": [],
   "source": [
    "y_p <- predict(lmodel, data.frame(asistencia = 30))\n",
    "\n",
    "cat(\"y_p =\", y_p, \"\\n\")"
   ]
  },
  {
   "cell_type": "code",
   "execution_count": null,
   "metadata": {
    "vscode": {
     "languageId": "r"
    }
   },
   "outputs": [],
   "source": [
    "found <- subset(datos_df, youtube == 1)\n",
    "\n",
    "conf_mode <- if(nrow(found) == 0) \"prediction\" else \"confidence\"\n",
    "conf_interv <- predict(lmodel, data.frame(youtube = 1), interval = conf_mode)\n",
    "\n",
    "y_p   <- conf_interv[1]\n",
    "y_inf <- conf_interv[2]\n",
    "y_sup <- conf_interv[3]\n",
    "\n",
    "found\n",
    "conf_interv\n",
    "cat(\"y_c =\", y_p, \"+-\", (y_p - y_inf), \"=> [\", y_inf, \",\", y_sup, \"] (\", conf_mode, \")\\n\")"
   ]
  }
 ],
 "metadata": {
  "kernelspec": {
   "display_name": "R",
   "language": "R",
   "name": "ir"
  },
  "language_info": {
   "codemirror_mode": "r",
   "file_extension": ".r",
   "mimetype": "text/x-r-source",
   "name": "R",
   "pygments_lexer": "r",
   "version": "4.3.1"
  },
  "orig_nbformat": 4
 },
 "nbformat": 4,
 "nbformat_minor": 2
}
