{
 "cells": [
  {
   "attachments": {},
   "cell_type": "markdown",
   "metadata": {
    "id": "is7NUHBQX6tm"
   },
   "source": [
    "# Taller Tema 3"
   ]
  },
  {
   "attachments": {},
   "cell_type": "markdown",
   "metadata": {},
   "source": [
    "## Integrantes\n",
    "\n",
    "* Francisco Gonzalez\n",
    "* Bernardo Pinninghoff\n",
    "* Maximiliano Sepulveda\n",
    "\n",
    "## Codigo de honor\n",
    "\n",
    "Este cuaderno ha sido desarrollado por los 3 integrantes del grupo siguiendo el codigo de honor UTFSM."
   ]
  },
  {
   "attachments": {},
   "cell_type": "markdown",
   "metadata": {
    "id": "U7I0-QMUY2jm"
   },
   "source": [
    "Imagine que el valor de cierta criptomoneda evoluciona con incrementos diarios independientes de manera que el $i$-ésimo día\n",
    "\n",
    "\\begin{eqnarray}\n",
    "Z_{i+1} &= \\left\\{ \\begin{array}{rl} \n",
    "2\\cdot Z_{i} & \\mbox{ con probabilidad} \\ p\\\\\n",
    "1/2 \\cdot Z_{i} & \\mbox{ con probabilidad} \\ 1-p\\\\\n",
    "\\end{array} \\right. \\ \\ \\ \\forall i=1,2,\\ldots\n",
    "\\end{eqnarray}"
   ]
  },
  {
   "attachments": {},
   "cell_type": "markdown",
   "metadata": {
    "id": "z1oec73_SLTn"
   },
   "source": [
    "Si definimos $Y_i=\\log_2(Z_{i+1})$, lo anterior es equivalente a escribir"
   ]
  },
  {
   "attachments": {},
   "cell_type": "markdown",
   "metadata": {
    "id": "-1tcvzhxSWUI"
   },
   "source": [
    "\\begin{eqnarray}\n",
    "Y_{i+1} & = Y_{i} + X_i \\ \\ \\ \\forall i=1,2,\\ldots\n",
    "\\end{eqnarray}"
   ]
  },
  {
   "attachments": {},
   "cell_type": "markdown",
   "metadata": {
    "id": "5PSi3JsKh3ec"
   },
   "source": [
    "donde $X_i$ es una v.a. discreta de Rademacher (que toma el valor $1$ con probabilidad $p$ y el valor $-1$ con probabilidad $1-p$)."
   ]
  },
  {
   "attachments": {},
   "cell_type": "markdown",
   "metadata": {
    "id": "t7vr_WnCj0LX"
   },
   "source": [
    "Suponga que valor actual de la moneda es $Z_0=1$ (de modo que $Y_0=0$)."
   ]
  },
  {
   "attachments": {},
   "cell_type": "markdown",
   "metadata": {
    "id": "SeayNWsykl_W",
    "tags": []
   },
   "source": [
    "# Actividades"
   ]
  },
  {
   "attachments": {},
   "cell_type": "markdown",
   "metadata": {
    "id": "rM1FrTW1kpcq"
   },
   "source": [
    "\n",
    "1.   Determine los posibles valores de la moneda n días hacia adelante ($Z_n$) y su correspondiente f.d.p. \n",
    "\n",
    "2.   Compruebe el resultado anterior vía simulación para n=10 y p=3/5. ¿Cuál es el valor más probable de $Z_n$? ¿Es simétrica la distribución? ¿Qué sucede si p=1/2?\n",
    "\n",
    "3.   Construya un gráfico para el valor esperado y la varianza del valor que de la moneda durante los primeros 30 días. Compare lo que sucede con p=3/5 y p=1/2. ¿Qué observa? ¿Qué relación existe entre estos valores y los primeros momentos de $Y_n$? \n",
    "\n",
    "4.   Use la ley de los grandes números para los estimar los valores esperados y las varianzas de la pregunta anterior mediante simulación. ¿Obtiene buenas aproximaciones de los valores teóricos? ¿De qué depende?\n",
    "\n",
    "5.   Suponga que cuando vende una moneda debe pagar un impuesto de $I=1.35^n$ donde n es el número de días pasados desde la compra. Si p=3/5, ¿Cuál es la probabilidad de que pierda dinero vendiendo la moneda después del primer mes? ¿Cuál es el valor esperado de la utilidad neta obtenida en este caso? ¿Conviene comprar una moneda si se debe vender después del primer mes? Incluya en su respuesta tanto un razonamiento teórico como estimaciones obtenidas vía simulación. \n",
    "\n",
    "6.  Si p=1/2, determine la probabilidad de que durante las primeras dos semanas, se verifique una racha de 5 o más alzas consecutivas. \n",
    "\n",
    "7.  Si p=1/2, su amiga Fede le aconseja vender la moneda apenas se verifiquen $5$ alzas consecutivas. Determine la f.d.p. del tiempo que pasará hasta la venta si se usa esta estrategia. Verifique su resultado mediante simulación y use esta última para estimar también la utilidad neta obtenida. \n"
   ]
  },
  {
   "attachments": {},
   "cell_type": "markdown",
   "metadata": {
    "id": "5xigZ1sb28-h",
    "tags": []
   },
   "source": [
    "# Disclaimer"
   ]
  },
  {
   "attachments": {},
   "cell_type": "markdown",
   "metadata": {},
   "source": [
    "La situación expuesta en este taller no tiene relación oficinal con ninguna criptomoneda y no representa consejo de inversión alguno."
   ]
  },
  {
   "attachments": {},
   "cell_type": "markdown",
   "metadata": {},
   "source": [
    "# Desarrollo"
   ]
  },
  {
   "attachments": {},
   "cell_type": "markdown",
   "metadata": {},
   "source": [
    "Es necesario el uso de algunas librerias para mostrar los datos en gráficos."
   ]
  },
  {
   "cell_type": "code",
   "execution_count": 1,
   "metadata": {
    "ExecuteTime": {
     "end_time": "2022-05-05T03:47:26.473356Z",
     "start_time": "2022-05-05T03:47:21.579333Z"
    }
   },
   "outputs": [],
   "source": [
    "# Liberias utiles\n",
    "import pandas as pd\n",
    "import numpy as np\n",
    "import matplotlib.pyplot as plt\n",
    "import seaborn as sn\n",
    "from glob import glob\n",
    "import re\n",
    "import math"
   ]
  },
  {
   "attachments": {},
   "cell_type": "markdown",
   "metadata": {},
   "source": [
    "## 1."
   ]
  },
  {
   "attachments": {},
   "cell_type": "markdown",
   "metadata": {},
   "source": [
    "Primero, podemos ver que los precios de la cryptomoneda siempre cambian dependiendo del dia, aumentando y disminuyendo en multiplos de dos, sin ningun valor intermedio entre cada dia. Entonces se puede decir que estamos enfrentandonos a un caso discreto, no continuo.\n",
    "\n",
    "\n",
    "Entonces tiene que en n dias, los valores posibles se encuentran entre $(\\frac{1}{2})^n$ y $2^n $ (entre n dias de disminucion del valor y n dias de duplicacion del valor).\n",
    "\n",
    "Dicho esto, se pueden modelar los posibles valores de $Z_{i}$ con la siguiente funcion:\n",
    "\n",
    "\\begin{eqnarray}\n",
    "h(x)=\\frac{2^x}{2^{(n-x)}}, x \\in [0, n]\n",
    "\\end{eqnarray}\n",
    "\n",
    "Donde $X$ es una variable aleatoria discreta de distribucion binomial con parametros $(n,p)$. Aplicando esto a la funcion $h(x)$ a esto, terminamos con la funcion de probabilidad $f(x)$:\n",
    "\n",
    "\\begin{eqnarray}\n",
    "f(x) = \\dbinom{n}{x}p^{x}(1-p)^{n-x}\n",
    "\\end{eqnarray}\n",
    "\n",
    "Ahora definimos en codigo dos funciones que nos van a permitir calcular los valores posibles de Z y sus probabilidades:"
   ]
  },
  {
   "cell_type": "code",
   "execution_count": 2,
   "metadata": {
    "ExecuteTime": {
     "end_time": "2022-05-05T03:47:26.486196Z",
     "start_time": "2022-05-05T03:47:26.477386Z"
    }
   },
   "outputs": [],
   "source": [
    "def valores(n): # funcion que calcula los valores de Z en el dia n\n",
    "    x = 0\n",
    "    valueList = []\n",
    "    while x <= n:\n",
    "        value = (2**x)/(2**(n-x))\n",
    "        valueList.append(value)\n",
    "        x += 1\n",
    "    return valueList\n",
    "\n",
    "def FDP(n,x,p): # funcion que calcula la probabilidad de los valores de Z segun el dia n y p\n",
    "    probList = []\n",
    "    while x <= n:\n",
    "        prob = math.comb(n,x)*(p**(x))*((1-p)**(n-x))\n",
    "        probList.append(prob)\n",
    "        x +=1\n",
    "    return probList"
   ]
  },
  {
   "attachments": {},
   "cell_type": "markdown",
   "metadata": {},
   "source": [
    "## 2."
   ]
  },
  {
   "attachments": {},
   "cell_type": "markdown",
   "metadata": {},
   "source": [
    "Se define la funcion `bitcoin()` que **retornará el valor final de la moneda al cabo de `n` dias, donde cada dia posee una probabilidad `p` de duplicar su valor, o `p-1` de disminuir a la mitad**."
   ]
  },
  {
   "cell_type": "code",
   "execution_count": 3,
   "metadata": {
    "ExecuteTime": {
     "end_time": "2022-05-05T03:47:26.500391Z",
     "start_time": "2022-05-05T03:47:26.489371Z"
    }
   },
   "outputs": [],
   "source": [
    "def bitcoin(n,p):\n",
    "    prob = int(p * 100)\n",
    "    z = 1\n",
    "    repeat = 0\n",
    "    while repeat < n:\n",
    "        pRand = np.random.randint(100)\n",
    "        #print(prob,pRand)\n",
    "\n",
    "        if pRand <= prob:\n",
    "            #print(\"Si, duplicar...\")\n",
    "            z = z*2\n",
    "        else:\n",
    "            #print(\"No, reducir...\")\n",
    "            z = z*0.5\n",
    "            \n",
    "        #print(z)\n",
    "        repeat += 1\n",
    "    return z"
   ]
  },
  {
   "attachments": {},
   "cell_type": "markdown",
   "metadata": {},
   "source": [
    "Se simulará el valor de la moneda despues de 10 dias, con una probabilidad de 3/5 de aumentar de precio. Para efectos de probabilidad, se repetirá el experimento 10000 veces."
   ]
  },
  {
   "cell_type": "code",
   "execution_count": 4,
   "metadata": {
    "ExecuteTime": {
     "end_time": "2022-05-05T03:47:27.563659Z",
     "start_time": "2022-05-05T03:47:26.505988Z"
    }
   },
   "outputs": [],
   "source": [
    "# Parametros\n",
    "n   = 10\n",
    "p   = 3/5\n",
    "rep = 10000\n",
    "\n",
    "# Simulacion\n",
    "exp = []\n",
    "nExp = 0\n",
    "while nExp < rep:\n",
    "    exp.append(bitcoin(n,p))\n",
    "    nExp += 1"
   ]
  },
  {
   "attachments": {},
   "cell_type": "markdown",
   "metadata": {},
   "source": [
    "Podemos darnos cuenta que **el valor que más se obtiene en todas las 10000 repeticiones es 4**. Podemos ver que **la distribucion no es simetrica**."
   ]
  },
  {
   "cell_type": "code",
   "execution_count": 5,
   "metadata": {
    "ExecuteTime": {
     "end_time": "2022-05-05T03:47:28.259048Z",
     "start_time": "2022-05-05T03:47:27.568858Z"
    }
   },
   "outputs": [
    {
     "data": {
      "image/png": "[encoded data removed]",
      "text/plain": [
       "<Figure size 432x288 with 1 Axes>"
      ]
     },
     "metadata": {
      "needs_background": "light"
     },
     "output_type": "display_data"
    }
   ],
   "source": [
    "#print(exp)\n",
    "contar = pd.Series(exp).value_counts().sort_index()\n",
    "contar.plot(kind='bar')\n",
    "plt.ylabel('Frecuencia')\n",
    "plt.xlabel('Precio de la moneda al cabo de 10 dias')\n",
    "plt.show()"
   ]
  },
  {
   "attachments": {},
   "cell_type": "markdown",
   "metadata": {},
   "source": [
    "Ahora, se simulará el mismo experimento, pero la probabilidad de que aumente el precio en este caso es 1/2."
   ]
  },
  {
   "cell_type": "code",
   "execution_count": 6,
   "metadata": {
    "ExecuteTime": {
     "end_time": "2022-05-05T03:47:29.685367Z",
     "start_time": "2022-05-05T03:47:28.268527Z"
    }
   },
   "outputs": [],
   "source": [
    "# Parametros\n",
    "n = 10\n",
    "p = 1/2\n",
    "rep = 10000\n",
    "\n",
    "# Simulacion\n",
    "exp = []\n",
    "nExp = 0\n",
    "while nExp < rep:\n",
    "    exp.append(bitcoin(n,p))\n",
    "    nExp += 1"
   ]
  },
  {
   "attachments": {},
   "cell_type": "markdown",
   "metadata": {},
   "source": [
    "Aqui **el valor que más se obtiene en todas las 10000 repeticiones es 1**. Aquí **si se posee una distribucion simetrica**."
   ]
  },
  {
   "cell_type": "code",
   "execution_count": 7,
   "metadata": {
    "ExecuteTime": {
     "end_time": "2022-05-05T03:47:30.048677Z",
     "start_time": "2022-05-05T03:47:29.688501Z"
    }
   },
   "outputs": [
    {
     "data": {
      "image/png": "[encoded data removed]",
      "text/plain": [
       "<Figure size 432x288 with 1 Axes>"
      ]
     },
     "metadata": {
      "needs_background": "light"
     },
     "output_type": "display_data"
    }
   ],
   "source": [
    "#print(exp)\n",
    "contar = pd.Series(exp).value_counts().sort_index()\n",
    "contar.plot(kind='bar')\n",
    "plt.ylabel('Frecuencia')\n",
    "plt.xlabel('Precio de la moneda al cabo de 10 dias')\n",
    "plt.show()"
   ]
  },
  {
   "attachments": {},
   "cell_type": "markdown",
   "metadata": {
    "tags": []
   },
   "source": [
    "## 3."
   ]
  },
  {
   "attachments": {},
   "cell_type": "markdown",
   "metadata": {},
   "source": [
    "Primero, definimos las funciones para calcular los valores esperados y varianzas de cada dia:"
   ]
  },
  {
   "cell_type": "code",
   "execution_count": 8,
   "metadata": {
    "ExecuteTime": {
     "end_time": "2022-05-05T03:47:30.063511Z",
     "start_time": "2022-05-05T03:47:30.051234Z"
    }
   },
   "outputs": [],
   "source": [
    "def valorEsperado(n,p): # funcion que calcula los valores esperados para n dias\n",
    "    i = 0\n",
    "    j = 0\n",
    "    listE = [] # lista de valores esperados\n",
    "    while i <= n:\n",
    "        E = 0\n",
    "        values = valores(i)\n",
    "        probs = FDP(i,0,p)\n",
    "        while j < len(values):\n",
    "            E += values[j]*probs[j]\n",
    "            j += 1\n",
    "        listE.append(E)\n",
    "        i += 1\n",
    "    return listE\n",
    "\n",
    "def varianza(n,p,listE): # funcion que calcula los valores esperados para n dias, requiere lista de valores esperados (listE)\n",
    "    i = 0\n",
    "    j = 0\n",
    "    listV = [] # lista de valores esperados\n",
    "    while i <= n:\n",
    "        V = 0\n",
    "        values = valores(i)\n",
    "        probs = FDP(i,0,p)\n",
    "        while j < len(values):\n",
    "            V += ((values[j]-listE[j])**2)*probs[j]\n",
    "            j += 1\n",
    "        listV.append(V)\n",
    "        i += 1\n",
    "    return listV"
   ]
  },
  {
   "attachments": {},
   "cell_type": "markdown",
   "metadata": {},
   "source": [
    "Y ahora graficamos para p = 3/5"
   ]
  },
  {
   "cell_type": "code",
   "execution_count": 9,
   "metadata": {
    "ExecuteTime": {
     "end_time": "2022-05-05T03:47:30.707488Z",
     "start_time": "2022-05-05T03:47:30.070308Z"
    }
   },
   "outputs": [
    {
     "data": {
      "image/png": "[encoded data removed]",
      "text/plain": [
       "<Figure size 432x288 with 1 Axes>"
      ]
     },
     "metadata": {
      "needs_background": "light"
     },
     "output_type": "display_data"
    },
    {
     "data": {
      "image/png": "[encoded data removed]",
      "text/plain": [
       "<Figure size 432x288 with 1 Axes>"
      ]
     },
     "metadata": {
      "needs_background": "light"
     },
     "output_type": "display_data"
    }
   ],
   "source": [
    "# Parametros\n",
    "p = 3/5\n",
    "n = 30\n",
    "\n",
    "#Calculo\n",
    "esperanzas = valorEsperado(n,p)\n",
    "varianzas = varianza(n,p,esperanzas)\n",
    "\n",
    "#Grafico\n",
    "grafE = pd.Series(esperanzas)\n",
    "grafE.plot()\n",
    "plt.ylabel(\"Valor Esperado\")\n",
    "plt.xlabel(\"Dia\")\n",
    "plt.show()\n",
    "\n",
    "grafV = pd.Series(varianzas)\n",
    "grafV.plot()\n",
    "plt.ylabel(\"Varianza\")\n",
    "plt.xlabel(\"Dia\")\n",
    "plt.show()"
   ]
  },
  {
   "attachments": {},
   "cell_type": "markdown",
   "metadata": {},
   "source": [
    "Y ahora para p = 1/2"
   ]
  },
  {
   "cell_type": "code",
   "execution_count": 10,
   "metadata": {
    "ExecuteTime": {
     "end_time": "2022-05-05T03:47:31.504716Z",
     "start_time": "2022-05-05T03:47:30.719004Z"
    }
   },
   "outputs": [
    {
     "data": {
      "image/png": "[encoded data removed]",
      "text/plain": [
       "<Figure size 432x288 with 1 Axes>"
      ]
     },
     "metadata": {
      "needs_background": "light"
     },
     "output_type": "display_data"
    },
    {
     "data": {
      "image/png": "[encoded data removed]",
      "text/plain": [
       "<Figure size 432x288 with 1 Axes>"
      ]
     },
     "metadata": {
      "needs_background": "light"
     },
     "output_type": "display_data"
    }
   ],
   "source": [
    "# Parametros\n",
    "p = 1/2\n",
    "n = 30\n",
    "\n",
    "#Calculo\n",
    "esperanzas = valorEsperado(n,p)\n",
    "varianzas = varianza(n,p,esperanzas)\n",
    "\n",
    "#Grafico\n",
    "grafE = pd.Series(esperanzas)\n",
    "grafE.plot()\n",
    "plt.ylabel(\"Valor Esperado\")\n",
    "plt.xlabel(\"Dia\")\n",
    "plt.show()\n",
    "\n",
    "grafV = pd.Series(varianzas)\n",
    "grafV.plot()\n",
    "plt.ylabel(\"Varianza\")\n",
    "plt.xlabel(\"Dia\")\n",
    "plt.show()"
   ]
  },
  {
   "attachments": {},
   "cell_type": "markdown",
   "metadata": {},
   "source": [
    "Observamos primero que nada que para p = 1/2, todos los valores esperados quedan en 1. Esto se debe a que el valor de esta cryptomoneda se comporta de manera muy similar a la distribucion binomial, lo que significa que al darle una probabilidad de exactamente 1/2 (o 0.5) se vuelve perfectamente simetrica.\n",
    "\n",
    "Luego, ante valores mas altos (como p = 3/5) se nota que los valores esperados aumentan exponencialmente a medida que pasan los dias.\n",
    "\n",
    "Luego, sabemos que $Y_n=\\log_2(Z_{n})$, lo que significa que la relacion entre $Y_n$ y $Z_n$ es logaritmica. Esto deberia conservarse para sus momentos. Entonces como los momentos de $Z_n$ se comportan exponencialmente, los de $Y_n$ deberian comportarse de manera lineal a la hora de aplicar la relacion logaritmica entre $Y_n$ y $Z_n$."
   ]
  },
  {
   "attachments": {},
   "cell_type": "markdown",
   "metadata": {},
   "source": [
    "## 4."
   ]
  },
  {
   "cell_type": "code",
   "execution_count": 11,
   "metadata": {
    "ExecuteTime": {
     "end_time": "2022-05-05T03:47:35.070143Z",
     "start_time": "2022-05-05T03:47:31.507764Z"
    }
   },
   "outputs": [],
   "source": [
    "# Parametros\n",
    "n   = 30\n",
    "p   = 3/5\n",
    "rep = 10000\n",
    "\n",
    "# Simulacion\n",
    "exp = []\n",
    "nExp = 0\n",
    "while nExp < rep:\n",
    "    exp.append(bitcoin(n,p))\n",
    "    nExp += 1"
   ]
  },
  {
   "cell_type": "code",
   "execution_count": 12,
   "metadata": {
    "ExecuteTime": {
     "end_time": "2022-05-05T03:47:35.874731Z",
     "start_time": "2022-05-05T03:47:35.073672Z"
    }
   },
   "outputs": [
    {
     "data": {
      "image/png": "[encoded data removed]",
      "text/plain": [
       "<Figure size 432x288 with 1 Axes>"
      ]
     },
     "metadata": {
      "needs_background": "light"
     },
     "output_type": "display_data"
    },
    {
     "name": "stdout",
     "output_type": "stream",
     "text": [
      "Esperanza: 42258.34198826904\n"
     ]
    }
   ],
   "source": [
    "#print(exp)\n",
    "contar = pd.Series(exp).value_counts().sort_index()\n",
    "contar.plot(kind='bar')\n",
    "plt.ylabel('Frecuencia')\n",
    "plt.xlabel('Precio de la moneda al cabo de 30 dias')\n",
    "plt.show()\n",
    "\n",
    "valores = list(dict(contar).keys())\n",
    "probab = list(contar)\n",
    "\n",
    "E = 0\n",
    "i = 0\n",
    "while i < len(valores):\n",
    "    #print(valores[i], (probab[i]/rep))\n",
    "    E += valores[i]*(probab[i]/rep)\n",
    "    i += 1\n",
    "    \n",
    "print(\"Esperanza: \" + str(E))"
   ]
  },
  {
   "cell_type": "code",
   "execution_count": 13,
   "metadata": {
    "ExecuteTime": {
     "end_time": "2022-05-05T03:47:39.052619Z",
     "start_time": "2022-05-05T03:47:35.885210Z"
    }
   },
   "outputs": [],
   "source": [
    "# Parametros\n",
    "n   = 30\n",
    "p   = 1/2\n",
    "rep = 10000\n",
    "\n",
    "# Simulacion\n",
    "exp = []\n",
    "nExp = 0\n",
    "while nExp < rep:\n",
    "    exp.append(bitcoin(n,p))\n",
    "    nExp += 1"
   ]
  },
  {
   "cell_type": "code",
   "execution_count": 14,
   "metadata": {
    "ExecuteTime": {
     "end_time": "2022-05-05T03:47:39.803011Z",
     "start_time": "2022-05-05T03:47:39.055875Z"
    }
   },
   "outputs": [
    {
     "data": {
      "image/png": "[encoded data removed]",
      "text/plain": [
       "<Figure size 432x288 with 1 Axes>"
      ]
     },
     "metadata": {
      "needs_background": "light"
     },
     "output_type": "display_data"
    },
    {
     "name": "stdout",
     "output_type": "stream",
     "text": [
      "Esperanza: 2518.5166100112915\n"
     ]
    }
   ],
   "source": [
    "#print(exp)\n",
    "contar = pd.Series(exp).value_counts().sort_index()\n",
    "contar.plot(kind='bar')\n",
    "plt.ylabel('Frecuencia')\n",
    "plt.xlabel('Precio de la moneda al cabo de 30 dias')\n",
    "plt.show()\n",
    "\n",
    "valores = list(dict(contar).keys())\n",
    "probab = list(contar)\n",
    "\n",
    "E = 0\n",
    "i = 0\n",
    "while i < len(valores):\n",
    "    #print(valores[i], (probab[i]/rep))\n",
    "    E += valores[i]*(probab[i]/rep)\n",
    "    i += 1\n",
    "    \n",
    "print(\"Esperanza: \" + str(E))"
   ]
  },
  {
   "attachments": {},
   "cell_type": "markdown",
   "metadata": {},
   "source": [
    "## 5."
   ]
  },
  {
   "attachments": {},
   "cell_type": "markdown",
   "metadata": {},
   "source": [
    "Se define la funcion `bitcoinImpuesto()`, siendo similar a la funcion `bitcoin()`, con la diferencia que **al final se descuenta el impuesto de venta `i` que se pagaría al vender la moneda a los `n` dias**."
   ]
  },
  {
   "cell_type": "code",
   "execution_count": 15,
   "metadata": {
    "ExecuteTime": {
     "end_time": "2022-05-05T03:47:39.861499Z",
     "start_time": "2022-05-05T03:47:39.839546Z"
    }
   },
   "outputs": [],
   "source": [
    "def bitcoinImpuesto(n,p,i):\n",
    "    prob = int(p * 100)\n",
    "    z = 1\n",
    "    repeat = 0\n",
    "    while repeat < n:\n",
    "        pRand = np.random.randint(100)\n",
    "        #print(prob,pRand)\n",
    "\n",
    "        if pRand <= prob:\n",
    "            #print(\"Si, duplicar...\")\n",
    "            z = z*2\n",
    "        else:\n",
    "            #print(\"No, reducir...\")\n",
    "            z = z*0.5\n",
    "            \n",
    "        #print(z)\n",
    "        repeat += 1\n",
    "    return z - i**n"
   ]
  },
  {
   "attachments": {},
   "cell_type": "markdown",
   "metadata": {},
   "source": [
    "Se simula  la moneda a 30 dias con una probabilidad de 3/5 de duplicar su valor, y un impuesto de venta de $1.35^n$. Este experimento se repite 10000 veces."
   ]
  },
  {
   "cell_type": "code",
   "execution_count": 16,
   "metadata": {
    "ExecuteTime": {
     "end_time": "2022-05-05T03:47:42.791561Z",
     "start_time": "2022-05-05T03:47:39.867830Z"
    }
   },
   "outputs": [],
   "source": [
    "# Parametros\n",
    "n = 30\n",
    "p = 3/5\n",
    "i = 1.35\n",
    "rep = 10000\n",
    "\n",
    "# Simulacion\n",
    "positivos = 0\n",
    "exp = []\n",
    "nExp = 0\n",
    "while nExp < rep:\n",
    "    expActual = bitcoinImpuesto(n,p,i)\n",
    "    exp.append(expActual)\n",
    "    if expActual > 0:\n",
    "        positivos += 1\n",
    "    nExp += 1"
   ]
  },
  {
   "attachments": {},
   "cell_type": "markdown",
   "metadata": {},
   "source": [
    "Las ganancias se distribuyen binomialmente; de los 10000 intentos, solo 1115 han obtenido ganancias, y el resto han tenido perdidas; es decir **la probabilidad de perder dinero vendiendo la moneda al mes es de 0.90 aproximadamente**."
   ]
  },
  {
   "cell_type": "code",
   "execution_count": 17,
   "metadata": {
    "ExecuteTime": {
     "end_time": "2022-05-05T03:47:43.638229Z",
     "start_time": "2022-05-05T03:47:42.800996Z"
    }
   },
   "outputs": [
    {
     "data": {
      "image/png": "[encoded data removed]",
      "text/plain": [
       "<Figure size 432x288 with 1 Axes>"
      ]
     },
     "metadata": {
      "needs_background": "light"
     },
     "output_type": "display_data"
    },
    {
     "name": "stdout",
     "output_type": "stream",
     "text": [
      "Ganancias positivas: 1172\n",
      "Probabilidad de perder dinero: 0.8828\n"
     ]
    }
   ],
   "source": [
    "contar = pd.Series(exp).value_counts().sort_index()\n",
    "contar.plot(kind='bar')\n",
    "plt.ylabel('Frecuencia')\n",
    "plt.xlabel('Ganancia neta en 30 dias')\n",
    "plt.show()\n",
    "print(\"Ganancias positivas: \" + str(positivos))\n",
    "print(\"Probabilidad de perder dinero: \" + str((rep-positivos)/rep))"
   ]
  },
  {
   "attachments": {},
   "cell_type": "markdown",
   "metadata": {},
   "source": [
    "A pesar de que el valor esperado es relativamente alto, hay que recordar que es un equivalente a un promedio, por lo tanto, es sensible a extremos."
   ]
  },
  {
   "cell_type": "code",
   "execution_count": 18,
   "metadata": {
    "ExecuteTime": {
     "end_time": "2022-05-05T03:47:43.667880Z",
     "start_time": "2022-05-05T03:47:43.649589Z"
    }
   },
   "outputs": [
    {
     "name": "stdout",
     "output_type": "stream",
     "text": [
      "Valor esperado: 22053.377313402678\n"
     ]
    }
   ],
   "source": [
    "val = list(dict(contar).keys())\n",
    "con = list(contar)\n",
    "espect = 0\n",
    "\n",
    "#print(val)\n",
    "#print(con)\n",
    "\n",
    "#print(contar)\n",
    "for x in range(len(val)):\n",
    "    #print(val[x],con[x]/rep)\n",
    "    espect += val[x] * (con[x]/rep)\n",
    "    \n",
    "print(\"Valor esperado: \" + str(espect))"
   ]
  },
  {
   "attachments": {},
   "cell_type": "markdown",
   "metadata": {
    "ExecuteTime": {
     "end_time": "2022-05-03T19:18:22.023861Z",
     "start_time": "2022-05-03T19:18:22.019669Z"
    }
   },
   "source": [
    "**Se puede concluir que no conviene vender la moneda a final de mes**, pues hay una muy alta probabilidad de terminar con perdidas. A pesar de que hay valores de ganancia maxima muy altas, como tambien minimos muy bajos, estos poseen poca probabilidad de ocurrir, sin embargo, afectan al valor esperado."
   ]
  },
  {
   "attachments": {},
   "cell_type": "markdown",
   "metadata": {},
   "source": [
    "## 6."
   ]
  },
  {
   "attachments": {},
   "cell_type": "markdown",
   "metadata": {},
   "source": [
    "Se define la funcion `bitcoinAlza()`, similar a `bitcoin()`, pero en esta ocasion, **la funcion retorna 1 cuando se presentan 5 alzas consecutivas entre los `n` dias**."
   ]
  },
  {
   "cell_type": "code",
   "execution_count": 19,
   "metadata": {
    "ExecuteTime": {
     "end_time": "2022-05-05T03:47:43.683401Z",
     "start_time": "2022-05-05T03:47:43.676982Z"
    }
   },
   "outputs": [],
   "source": [
    "def bitcoinAlza(n,p):\n",
    "    prob = int(p * 100)\n",
    "    alza = 0\n",
    "    repeat = 0\n",
    "    while repeat < n:\n",
    "        pRand = np.random.randint(100)\n",
    "        #print(prob,pRand)\n",
    "\n",
    "        if pRand <= prob:\n",
    "            #print(\"Si, duplicar...\")\n",
    "            alza += 1\n",
    "        else:\n",
    "            #print(\"No, reducir...\")\n",
    "            alza = 0 # Reiniciar contador\n",
    "            \n",
    "        #print(z)\n",
    "        if alza == 5:\n",
    "            return 1\n",
    "            \n",
    "        repeat += 1\n",
    "    return 0"
   ]
  },
  {
   "attachments": {},
   "cell_type": "markdown",
   "metadata": {},
   "source": [
    "Con lo anterior, se realiza el experimento con 14 dias (2 semanas) y una probabilidad de 1/2 en duplicar su valor, repitiendose 10000 veces. Cada vez que ocurran 5 alzas consecutivas, el contador `alzas` aumenta."
   ]
  },
  {
   "cell_type": "code",
   "execution_count": 20,
   "metadata": {
    "ExecuteTime": {
     "end_time": "2022-05-05T03:47:45.009990Z",
     "start_time": "2022-05-05T03:47:43.689216Z"
    }
   },
   "outputs": [],
   "source": [
    "# Parametros\n",
    "n = 14\n",
    "p = 1/2\n",
    "alzas = 0\n",
    "rep = 10000\n",
    "\n",
    "# Simulacion\n",
    "for x in range(rep):\n",
    "    alzas += bitcoinAlza(n,p)"
   ]
  },
  {
   "attachments": {},
   "cell_type": "markdown",
   "metadata": {},
   "source": [
    "Se obtiene el numero de ocurrencias, respecto a la cantidad total de intentos que se realizó el experimento, **obteniendose una probabilidad de aproximadamente 0.18**."
   ]
  },
  {
   "cell_type": "code",
   "execution_count": 21,
   "metadata": {
    "ExecuteTime": {
     "end_time": "2022-05-05T03:47:45.043433Z",
     "start_time": "2022-05-05T03:47:45.019752Z"
    }
   },
   "outputs": [
    {
     "name": "stdout",
     "output_type": "stream",
     "text": [
      "Numero de ocurrencias: 1844\n",
      "Probabilidad: 0.1844\n"
     ]
    }
   ],
   "source": [
    "print(\"Numero de ocurrencias: \" + str(alzas))\n",
    "print(\"Probabilidad: \" + str(alzas/rep))"
   ]
  },
  {
   "attachments": {},
   "cell_type": "markdown",
   "metadata": {},
   "source": [
    "## 7."
   ]
  },
  {
   "attachments": {},
   "cell_type": "markdown",
   "metadata": {},
   "source": [
    "Se define la función `bitcoinTiempo()`, similar a `bitcoinAlza()`, pero en esta ocasión **se retorna la cantidad de dias que se tarda hasta obtener 5 dias consecutivos de alza**."
   ]
  },
  {
   "cell_type": "code",
   "execution_count": 22,
   "metadata": {
    "ExecuteTime": {
     "end_time": "2022-05-05T03:47:45.067476Z",
     "start_time": "2022-05-05T03:47:45.050955Z"
    }
   },
   "outputs": [],
   "source": [
    "def bitcoinTiempo(p):\n",
    "    prob = int(p * 100)\n",
    "    dias = 0\n",
    "    alza = 0\n",
    "    while alza != 5:\n",
    "        pRand = np.random.randint(100)\n",
    "        #print(prob,pRand)\n",
    "\n",
    "        if pRand <= prob:\n",
    "            #print(\"Si, duplicar...\")\n",
    "            alza += 1\n",
    "        else:\n",
    "            #print(\"No, reducir...\")\n",
    "            alza = 0 # Reiniciar contador\n",
    "            \n",
    "        dias += 1\n",
    "    return dias"
   ]
  },
  {
   "attachments": {},
   "cell_type": "markdown",
   "metadata": {},
   "source": [
    "El experimento se repite 10000 veces con una probabilidad de alza de 1/2."
   ]
  },
  {
   "cell_type": "code",
   "execution_count": 23,
   "metadata": {
    "ExecuteTime": {
     "end_time": "2022-05-05T03:48:34.427486Z",
     "start_time": "2022-05-05T03:47:45.071249Z"
    },
    "scrolled": true
   },
   "outputs": [],
   "source": [
    "# Parametros\n",
    "p = 1/2\n",
    "rep = 100000\n",
    "\n",
    "# Simulacion\n",
    "exp = []\n",
    "nExp = 0\n",
    "while nExp < rep:\n",
    "    exp.append(bitcoinTiempo(p))\n",
    "    nExp += 1"
   ]
  },
  {
   "attachments": {},
   "cell_type": "markdown",
   "metadata": {},
   "source": [
    "Se puede ver que generalmente se tarda alrededor de 15 dias en obtener un alza de 5 dias consecutivos."
   ]
  },
  {
   "cell_type": "code",
   "execution_count": 24,
   "metadata": {
    "ExecuteTime": {
     "end_time": "2022-05-05T03:48:35.117949Z",
     "start_time": "2022-05-05T03:48:34.443697Z"
    }
   },
   "outputs": [
    {
     "data": {
      "image/png": "[encoded data removed]",
      "text/plain": [
       "<Figure size 432x288 with 1 Axes>"
      ]
     },
     "metadata": {
      "needs_background": "light"
     },
     "output_type": "display_data"
    }
   ],
   "source": [
    "contar = pd.Series(exp)\n",
    "contar.plot(kind='hist',bins=20,range=(0,200))\n",
    "plt.ylabel('Frecuencia')\n",
    "plt.xlabel('Dias transcurridos')\n",
    "plt.show()"
   ]
  },
  {
   "attachments": {},
   "cell_type": "markdown",
   "metadata": {},
   "source": [
    "A continuación, se define la función `bitcoinTiempoGanancia()`, similar a `bitcoinTiempo()`, pero en esta ocasión **se retorna el valor de la moneda, junto al impuesto de venta que se debe pagar por los dias que han transcurrido hasta las 5 alzas consecutivas**."
   ]
  },
  {
   "cell_type": "code",
   "execution_count": 25,
   "metadata": {
    "ExecuteTime": {
     "end_time": "2022-05-05T03:48:35.132837Z",
     "start_time": "2022-05-05T03:48:35.123006Z"
    }
   },
   "outputs": [],
   "source": [
    "def bitcoinTiempoGanancia(p,i):\n",
    "    prob = int(p * 100)\n",
    "    dias = 0\n",
    "    alza = 0\n",
    "    z = 1\n",
    "    while alza != 5:\n",
    "        pRand = np.random.randint(100)\n",
    "        #print(prob,pRand)\n",
    "\n",
    "        if pRand <= prob:\n",
    "            #print(\"Si, duplicar...\")\n",
    "            alza += 1\n",
    "            z = z*2\n",
    "        else:\n",
    "            #print(\"No, reducir...\")\n",
    "            alza = 0 # Reiniciar contador\n",
    "            z = z*0.5\n",
    "            \n",
    "        dias += 1\n",
    "    return z - i**dias"
   ]
  },
  {
   "attachments": {},
   "cell_type": "markdown",
   "metadata": {},
   "source": [
    "El experimento se repite 10000 veces con una probabilidad de alza de 1/2, con el mismo impuesto ingresado anteriormente."
   ]
  },
  {
   "cell_type": "code",
   "execution_count": 26,
   "metadata": {
    "ExecuteTime": {
     "end_time": "2022-05-05T03:49:21.664797Z",
     "start_time": "2022-05-05T03:48:35.137874Z"
    }
   },
   "outputs": [],
   "source": [
    "# Parametros\n",
    "p = 1/2\n",
    "i = 1.35\n",
    "rep = 100000\n",
    "\n",
    "# Simulacion\n",
    "exp = []\n",
    "nExp = 0\n",
    "while nExp < rep:\n",
    "    exp.append(bitcoinTiempoGanancia(p,i))\n",
    "    #print(\"Exp #\" + str(nExp))\n",
    "    nExp += 1"
   ]
  },
  {
   "attachments": {},
   "cell_type": "markdown",
   "metadata": {},
   "source": [
    "Se puede observar que la utilidad neta utilizando la estrategia de esperar 5 alzas consecutivas es alrededor de 0, tendiendo a perdidas."
   ]
  },
  {
   "cell_type": "code",
   "execution_count": 27,
   "metadata": {
    "ExecuteTime": {
     "end_time": "2022-05-05T03:49:22.164093Z",
     "start_time": "2022-05-05T03:49:21.670747Z"
    }
   },
   "outputs": [
    {
     "data": {
      "image/png": "[encoded data removed]",
      "text/plain": [
       "<Figure size 432x288 with 1 Axes>"
      ]
     },
     "metadata": {
      "needs_background": "light"
     },
     "output_type": "display_data"
    }
   ],
   "source": [
    "contar = pd.Series(exp)\n",
    "contar.plot(kind='hist',bins=20,range=(-10000,2500))\n",
    "plt.ylabel('Frecuencia')\n",
    "plt.xlabel('Ganancia neta')\n",
    "plt.show()"
   ]
  }
 ],
 "metadata": {
  "colab": {
   "collapsed_sections": [],
   "name": "INF280_TallerT3_I_2022_ENUNCIADOS.ipynb",
   "provenance": [],
   "toc_visible": true
  },
  "kernelspec": {
   "display_name": "Python 3 (ipykernel)",
   "language": "python",
   "name": "python3"
  },
  "language_info": {
   "codemirror_mode": {
    "name": "ipython",
    "version": 3
   },
   "file_extension": ".py",
   "mimetype": "text/x-python",
   "name": "python",
   "nbconvert_exporter": "python",
   "pygments_lexer": "ipython3",
   "version": "3.8.10"
  },
  "toc": {
   "base_numbering": 1,
   "nav_menu": {},
   "number_sections": false,
   "sideBar": true,
   "skip_h1_title": false,
   "title_cell": "Table of Contents",
   "title_sidebar": "Contents",
   "toc_cell": false,
   "toc_position": {
    "height": "calc(100% - 180px)",
    "left": "10px",
    "top": "150px",
    "width": "274.6px"
   },
   "toc_section_display": true,
   "toc_window_display": true
  }
 },
 "nbformat": 4,
 "nbformat_minor": 4
}
